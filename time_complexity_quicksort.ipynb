{
 "cells": [
  {
   "cell_type": "code",
   "execution_count": 1,
   "metadata": {},
   "outputs": [],
   "source": [
    "import time\n",
    "\n",
    "import math\n",
    "\n",
    "def quicksort(a):\n",
    "    _qsort(a,0,len(a)-1)\n",
    "    \n",
    "def _qsort(a, lo, hi):\n",
    "    # For small arrays insertion sort is to be prefered: no recursion.\n",
    "    # The implementation of sorted in Python uses insertion sort \n",
    "    # for arrays of length less than 64. So we can use that. \n",
    "    # The base case is then\n",
    "    #     if lo + 64 > hi: a[lo:hi+1] = sorted(a[lo:hi+1]) \n",
    "\n",
    "    # but, at least three elements for the base case (think of partition):\n",
    "    if lo + 2 > hi: a[lo:hi+1] = sorted(a[lo:hi+1]) \n",
    "    else: \n",
    "        _pivot(a, lo, hi)\n",
    "        i = _partition(a, lo, hi)\n",
    "        _qsort(a, lo, i - 1)\n",
    "        _qsort(a, i + 1, hi)\n",
    "        \n",
    "        \n",
    "def _swap(a,i,j):\n",
    "    a[i], a[j] = a[j], a[i]\n",
    "    \n",
    "def _pivot(a, lo, hi):\n",
    "    mid = (lo + hi) // 2\n",
    "    # sort lo, mid, hi:\n",
    "    if a[mid] < a[lo]:\n",
    "        _swap(a, lo, mid)\n",
    "    if a[hi] < a[lo]:\n",
    "        _swap(a, lo, hi)\n",
    "    if a[hi] < a[mid]:\n",
    "        _swap(a, mid, hi)\n",
    "\n",
    "def _partition(a, lo, hi):\n",
    "    # place the pivot out of the way, in position hi -1 \n",
    "    mid = (lo + hi)//2\n",
    "    _swap(a, mid, hi - 1)\n",
    "    \n",
    "    # initialize the indices to walk through the array from low to high and from hight to low\n",
    "    i = lo\n",
    "    j = hi - 1\n",
    "    pivot = a[j]\n",
    "    \n",
    "    # the algorithm that Tim explains\n",
    "    while True:\n",
    "        while True:\n",
    "            i += 1\n",
    "            if a[i] >= pivot: break\n",
    "           \n",
    "        while True:\n",
    "            j -= 1\n",
    "            if a[j] <= pivot: break\n",
    "            \n",
    "        if i >= j: break\n",
    "        _swap(a, i, j)\n",
    "\n",
    "    # put the pivot in place and return the position of the pivot    \n",
    "    _swap(a, i, hi - 1)\n",
    "    return i"
   ]
  },
  {
   "cell_type": "markdown",
   "metadata": {},
   "source": [
    "<hr style=\"border:1px solid silver\"> </hr>\n",
    "\n",
    "# Exercise 1\n",
    "\n",
    "Complete the definition of the function \n",
    "\n",
    "```Python\n",
    "tabulate_T_n(start, times)\n",
    "```\n",
    "to study the execution time of quicksort. You will need to do the following:\n",
    "\n",
    "1. Use the function ```generator``` (see the notebook for week 2) that generates random arrays of a given size to \n",
    "\n",
    "    * generate 10 arrays of a given length (size N)\n",
    "    \n",
    "    * for each of the arrays meassure the time it takes to sort them\n",
    "    \n",
    "    * calculate the average of the 10 values\n",
    "    \n",
    "    * this is the value of T(N) that is the meassured execution time of the sorting algorithm for arrays of size N.\n",
    "    \n",
    "    \n",
    "2. Use this for 10 different sizes where you duplicate the size each time. Start with size 800, you will have to do it for sizes 800, 1600, 3200, 6400, 12800, 25600, 51200, 102400, 204800, 409600. Remember that we are interested in big values (one of the guiding assumptions for doing asymptotic analysis)\n",
    "    \n",
    "3. Use this to calculate a table (It will take some time: be patient, you are sorting many big arrays!)\n",
    "\n",
    "|    N      | T(N)  |\n",
    "|:---------:|:-----:|\n",
    "| start     | $t_0$ |\n",
    "| 2 * start | $t_1$ |\n",
    "| 4 * start | $t_2$ |\n",
    "| 8 * start | $t_3$ |\n",
    "| $\\ldots $ | $\\ldots$|\n",
    "| $2^9$ * start|  $t_9$ |\n",
    "\n",
    "You do not need to print it as a table: generate a list of pairs ```[(start, T(start)), (2*start,T(2*start)), ..., (size, T(size)]```\n",
    "\n",
    "<hr style=\"border:1px solid silver\"> </hr>\n"
   ]
  },
  {
   "cell_type": "code",
   "execution_count": 2,
   "metadata": {
    "scrolled": true
   },
   "outputs": [
    {
     "name": "stdout",
     "output_type": "stream",
     "text": [
      "[(800, 0.00029947757720947263), (1600, 0.001703929901123047), (3200, 0.0022917747497558593), (6400, 0.007649421691894531), (12800, 0.01660740375518799), (25600, 0.03319845199584961), (51200, 0.07044997215270996), (102400, 0.15399377346038817), (204800, 0.3492702007293701), (409600, 0.8416143178939819)]\n"
     ]
    }
   ],
   "source": [
    "import random\n",
    "import time\n",
    "import math\n",
    "def tabulate_T_n(start, times):\n",
    "    mytupple=[];\n",
    "    for x in range(0,times):\n",
    "        val=sort_impl(start*pow(2,x),10)\n",
    "        mytupple.append(val)\n",
    "    return mytupple\n",
    "\n",
    " \n",
    "def sort_impl(start,n):\n",
    "    sum=0\n",
    "    for i in range(n):\n",
    "        arr=_generateRandom(-start, start)\n",
    "        start_time=time.time()\n",
    "        quicksort(arr)\n",
    "        end_time=time.time()\n",
    "        sum += end_time-start_time\n",
    "    return(start, sum/n)\n",
    "\n",
    "\n",
    "\n",
    "def _generateRandom(low, high):\n",
    "    return random.sample(range(low,high),high)\n",
    "   \n",
    "\n",
    "arr=[]    \n",
    "start=800\n",
    "table = tabulate_T_n(start, 10)\n",
    "print(table)\n"
   ]
  },
  {
   "cell_type": "markdown",
   "metadata": {},
   "source": [
    "<hr style=\"border:1px solid silver\"> </hr>\n",
    "\n",
    "# Exercise 2\n",
    "\n",
    "The videos also explained that the Big Oh analysis of quicksort.\n",
    "\n",
    "The variable```extended_table``` below is an extension of your table with values for \n",
    "\n",
    "|    N      | T(N)  | log(N) | N log(N) | N * N |\n",
    "|:---------:|:-----:|:-----: |:-----:|:-----:|\n",
    "| start     | $t_0$ |        |       |       |\n",
    "| 2 * start | $t_1$ |        |       |        |\n",
    "| 4 * start | $t_2$ |        |       |        |\n",
    "| 8 * start | $t_3$ |        |        |       |\n",
    "| $\\ldots $ | $\\ldots$|     |        |         |\n",
    "| $2^9$ * start|  $t_9$ |     |      |        |\n",
    "\n",
    "You can try to understand what function grows as fast as T(N) by taking quotients of the values of T(N) with the values of the other functions for each N. For example T(start)/log(start). One of the columns will converge to better than the other ones. This means that T(N) and that function grow at more or less the same speed! T(N) Big-O of that function.\n",
    "\n",
    "from IPython.display import HTML, display\n",
    "import tabulatePresent this analysis of your table (show all the values you calculate. You can program the calculations if you want!) and pick the function that best describes the growth of T(N). This is mostly an analysis exercise, not a programming exercise! That is why the cell for your answer is a Markdown cell where you can write text and not a Code cell."
   ]
  },
  {
   "cell_type": "code",
   "execution_count": 3,
   "metadata": {},
   "outputs": [
    {
     "data": {
      "text/html": [
       "<table>\n",
       "<tbody>\n",
       "<tr><td>n     </td><td>time                  </td><td>logn              </td><td>nlogn             </td><td>n2          </td></tr>\n",
       "<tr><td>800   </td><td>0.00029947757720947263</td><td>9.643856189774725 </td><td>7715.08495181978  </td><td>640000      </td></tr>\n",
       "<tr><td>1600  </td><td>0.001703929901123047  </td><td>10.643856189774725</td><td>17030.169903639562</td><td>2560000     </td></tr>\n",
       "<tr><td>3200  </td><td>0.0022917747497558593 </td><td>11.643856189774725</td><td>37260.339807279124</td><td>10240000    </td></tr>\n",
       "<tr><td>6400  </td><td>0.007649421691894531  </td><td>12.643856189774725</td><td>80920.67961455825 </td><td>40960000    </td></tr>\n",
       "<tr><td>12800 </td><td>0.01660740375518799   </td><td>13.643856189774725</td><td>174641.3592291165 </td><td>163840000   </td></tr>\n",
       "<tr><td>25600 </td><td>0.03319845199584961   </td><td>14.643856189774725</td><td>374882.718458233  </td><td>655360000   </td></tr>\n",
       "<tr><td>51200 </td><td>0.07044997215270996   </td><td>15.643856189774725</td><td>800965.436916466  </td><td>2621440000  </td></tr>\n",
       "<tr><td>102400</td><td>0.15399377346038817   </td><td>16.643856189774723</td><td>1704330.8738329317</td><td>10485760000 </td></tr>\n",
       "<tr><td>204800</td><td>0.3492702007293701    </td><td>17.643856189774723</td><td>3613461.7476658635</td><td>41943040000 </td></tr>\n",
       "<tr><td>409600</td><td>0.8416143178939819    </td><td>18.643856189774723</td><td>7636523.495331727 </td><td>167772160000</td></tr>\n",
       "</tbody>\n",
       "</table>"
      ],
      "text/plain": [
       "<IPython.core.display.HTML object>"
      ]
     },
     "metadata": {},
     "output_type": "display_data"
    },
    {
     "name": "stdout",
     "output_type": "stream",
     "text": [
      "[0.00029947757720947263, 0.001703929901123047, 0.0022917747497558593, 0.007649421691894531, 0.01660740375518799, 0.03319845199584961, 0.07044997215270996, 0.15399377346038817, 0.3492702007293701, 0.8416143178939819]\n"
     ]
    },
    {
     "data": {
      "image/png": "[encoded data removed]",
      "text/plain": [
       "<Figure size 432x288 with 1 Axes>"
      ]
     },
     "metadata": {
      "needs_background": "light"
     },
     "output_type": "display_data"
    },
    {
     "name": "stdout",
     "output_type": "stream",
     "text": [
      "[9.643856189774725, 10.643856189774725, 11.643856189774725, 12.643856189774725, 13.643856189774725, 14.643856189774725, 15.643856189774725, 16.643856189774723, 17.643856189774723, 18.643856189774723]\n"
     ]
    },
    {
     "data": {
      "image/png": "[encoded data removed]",
      "text/plain": [
       "<Figure size 432x288 with 1 Axes>"
      ]
     },
     "metadata": {
      "needs_background": "light"
     },
     "output_type": "display_data"
    },
    {
     "name": "stdout",
     "output_type": "stream",
     "text": [
      "[7715.08495181978, 17030.169903639562, 37260.339807279124, 80920.67961455825, 174641.3592291165, 374882.718458233, 800965.436916466, 1704330.8738329317, 3613461.7476658635, 7636523.495331727]\n"
     ]
    },
    {
     "data": {
      "image/png": "[encoded data removed]",
      "text/plain": [
       "<Figure size 432x288 with 1 Axes>"
      ]
     },
     "metadata": {
      "needs_background": "light"
     },
     "output_type": "display_data"
    },
    {
     "name": "stdout",
     "output_type": "stream",
     "text": [
      "[640000, 2560000, 10240000, 40960000, 163840000, 655360000, 2621440000, 10485760000, 41943040000, 167772160000]\n"
     ]
    },
    {
     "data": {
      "image/png": "[encoded data removed]",
      "text/plain": [
       "<Figure size 432x288 with 1 Axes>"
      ]
     },
     "metadata": {
      "needs_background": "light"
     },
     "output_type": "display_data"
    }
   ],
   "source": [
    "from tabulate import tabulate\n",
    "\n",
    "import matplotlib.pyplot as plt\n",
    "from IPython.display import HTML,display\n",
    "\n",
    "header=[(\"n\",\"time\",\"logn\",\"nlogn\",\"n2\")]\n",
    "extended_table = [(n,t,math.log2(n),n*math.log2(n),n**2) for n,t in table]\n",
    "display(HTML(tabulate(header+extended_table, tablefmt='html')))\n",
    "\n",
    "\n",
    "x=[i for i in range(10)]\n",
    "\n",
    "#Actual graph\n",
    "y = [t for n,t,logn,nlogn,n2 in extended_table]\n",
    "print(y)\n",
    "plt.plot(x, y)\n",
    "plt.title('Actual')\n",
    "plt.show()\n",
    "\n",
    "\n",
    "\n",
    "#logn graph\n",
    "y = [logn for n,t,logn,nlogn,n2 in extended_table]\n",
    "print(y)\n",
    "# plotting the points\n",
    "plt.plot(x, y)\n",
    "plt.title('Log n')\n",
    "plt.show()\n",
    "\n",
    "\n",
    "#nlogn graph\n",
    "y = [nlogn for n,t,logn,nlogn,n2 in extended_table]\n",
    "print(y)\n",
    "plt.plot(x, y)\n",
    "plt.title('N Log n')\n",
    "plt.show()\n",
    "\n",
    "#n2 graph\n",
    "y = [n2 for n,t,logn,nlogn,n2 in extended_table]\n",
    "print(y)\n",
    "plt.plot(x, y)\n",
    "plt.title('n2')\n",
    "plt.show()\n",
    "\n",
    "\n",
    "\n"
   ]
  },
  {
   "cell_type": "markdown",
   "metadata": {},
   "source": [
    "<hr style=\"border:1px solid silver\"> </hr>\n",
    "\n",
    "# Exercise 3\n",
    "\n",
    "We are interested in understanding whether the number of elements that we use to cut off the recursion in quicksort (see the base case) really affects the execution time of the program.\n",
    "\n",
    "Write a program that uses the method of Exercise 1 to meassure the execution time of the algorithm for arrays with sizes as in Exercise 1 for three versions of the algorithm: with cut off 2, 20 and 64. Show the results you get and explain whether the value of the cut off is of any importance."
   ]
  },
  {
   "cell_type": "code",
   "execution_count": 4,
   "metadata": {},
   "outputs": [
    {
     "name": "stdout",
     "output_type": "stream",
     "text": [
      "Time taken for Cutoff 2 \n",
      "------  ----------\n",
      "   800  0.00057776\n",
      "  1600  0.00169389\n",
      "  3200  0.00376537\n",
      "  6400  0.00669968\n",
      " 12800  0.014853\n",
      " 25600  0.0337008\n",
      " 51200  0.0701997\n",
      "102400  0.154514\n",
      "204800  0.343081\n",
      "409600  0.799393\n",
      "------  ----------\n",
      "Time taken for Cutoff 20 \n",
      "------  ----------\n",
      "   800  0\n",
      "  1600  0\n",
      "  3200  0.00219038\n",
      "  6400  0.00368924\n",
      " 12800  0.0104184\n",
      " 25600  0.0221291\n",
      " 51200  0.0458609\n",
      "102400  0.108428\n",
      "204800  0.256563\n",
      "409600  0.584941\n",
      "------  ----------\n",
      "Time taken for Cutoff 64 \n",
      "------  -----------\n",
      "   800  0.000499177\n",
      "  1600  0.000589538\n",
      "  3200  0.00139551\n",
      "  6400  0.00358806\n",
      " 12800  0.0076273\n",
      " 25600  0.0184015\n",
      " 51200  0.0434119\n",
      "102400  0.0974322\n",
      "204800  0.236307\n",
      "409600  0.542699\n",
      "------  -----------\n"
     ]
    }
   ],
   "source": [
    "from tabulate import tabulate\n",
    "import time\n",
    "import random\n",
    "import math\n",
    "   \n",
    "def _qsortCutoff(a, lo, hi, cutoff):\n",
    "    if lo + cutoff > hi:\n",
    "        a[lo:hi+1] = sorted(a[lo:hi+1])\n",
    "    else:\n",
    "        _pivot(a, lo, hi)\n",
    "        i = _partition(a, lo, hi)\n",
    "        _qsortCutoff(a, lo, i - 1, cutoff)\n",
    "        _qsortCutoff(a, i + 1, hi, cutoff)\n",
    "\n",
    "def tabulate_T_n_cutoff(start, times, cutoff=0):\n",
    "    mytupple=[];\n",
    "    for x in range(0,times):\n",
    "        val=sort_impl_cutoff((start*(2**x)), 10, cutoff)\n",
    "        mytupple.append(val)\n",
    "    return mytupple\n",
    "\n",
    "def sort_impl_cutoff(start, n, cutoff=0):\n",
    "    sum=0\n",
    "    for i in range(n):\n",
    "        arr=_generateRandom(-start, start)\n",
    "        start_time=time.time()\n",
    "        if cutoff==0:\n",
    "            quicksort(arr)\n",
    "        else:\n",
    "            _qsortCutoff(arr,0,len(arr)-1, cutoff)\n",
    "        end_time=time.time()\n",
    "        sum += end_time-start_time\n",
    "    return(start, sum/n)\n",
    "\n",
    "start=800\n",
    "print(\"Time taken for Cutoff 2 \")\n",
    "table1 = tabulate_T_n_cutoff(start, 10, 2)\n",
    "print(tabulate(table1))\n",
    "\n",
    "print(\"Time taken for Cutoff 20 \")\n",
    "table2 = tabulate_T_n_cutoff(start, 10,20)\n",
    "print(tabulate(table2))\n",
    "\n",
    "print(\"Time taken for Cutoff 64 \")\n",
    "table3 = tabulate_T_n_cutoff(start, 10,64)\n",
    "print(tabulate(table3))\n"
   ]
  },
  {
   "cell_type": "markdown",
   "metadata": {},
   "source": []
  }
 ],
 "metadata": {
  "kernelspec": {
   "display_name": "Python 3 (ipykernel)",
   "language": "python",
   "name": "python3"
  },
  "language_info": {
   "codemirror_mode": {
    "name": "ipython",
    "version": 3
   },
   "file_extension": ".py",
   "mimetype": "text/x-python",
   "name": "python",
   "nbconvert_exporter": "python",
   "pygments_lexer": "ipython3",
   "version": "3.9.7"
  }
 },
 "nbformat": 4,
 "nbformat_minor": 4
}
